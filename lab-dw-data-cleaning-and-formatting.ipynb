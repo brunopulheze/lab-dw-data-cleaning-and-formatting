{
  "cells": [
    {
      "cell_type": "markdown",
      "id": "25d7736c-ba17-4aff-b6bb-66eba20fbf4e",
      "metadata": {
        "id": "25d7736c-ba17-4aff-b6bb-66eba20fbf4e"
      },
      "source": [
        "# Lab | Data Cleaning and Formatting"
      ]
    },
    {
      "cell_type": "markdown",
      "id": "d1973e9e-8be6-4039-b70e-d73ee0d94c99",
      "metadata": {
        "id": "d1973e9e-8be6-4039-b70e-d73ee0d94c99"
      },
      "source": [
        "In this lab, we will be working with the customer data from an insurance company, which can be found in the CSV file located at the following link: https://raw.githubusercontent.com/data-bootcamp-v4/data/main/file1.csv\n"
      ]
    },
    {
      "cell_type": "markdown",
      "id": "31b8a9e7-7db9-4604-991b-ef6771603e57",
      "metadata": {
        "id": "31b8a9e7-7db9-4604-991b-ef6771603e57"
      },
      "source": [
        "# Challenge 1: Data Cleaning and Formatting"
      ]
    },
    {
      "cell_type": "markdown",
      "id": "81553f19-9f2c-484b-8940-520aff884022",
      "metadata": {
        "id": "81553f19-9f2c-484b-8940-520aff884022"
      },
      "source": [
        "## Exercise 1: Cleaning Column Names"
      ]
    },
    {
      "cell_type": "markdown",
      "id": "34a929f4-1be4-4fa8-adda-42ffd920be90",
      "metadata": {
        "id": "34a929f4-1be4-4fa8-adda-42ffd920be90"
      },
      "source": [
        "To ensure consistency and ease of use, standardize the column names of the dataframe. Start by taking a first look at the dataframe and identifying any column names that need to be modified. Use appropriate naming conventions and make sure that column names are descriptive and informative.\n",
        "\n",
        "*Hint*:\n",
        "- *Column names should be in lower case*\n",
        "- *White spaces in column names should be replaced by `_`*\n",
        "- *`st` could be replaced for `state`*"
      ]
    },
    {
      "cell_type": "code",
      "execution_count": 1,
      "id": "5810735c-8056-4442-bbf2-dda38d3e284a",
      "metadata": {
        "id": "5810735c-8056-4442-bbf2-dda38d3e284a"
      },
      "outputs": [],
      "source": [
        "# Your code here\n",
        "\n",
        "import pandas as pd\n",
        "import numpy as np\n"
      ]
    },
    {
      "cell_type": "code",
      "execution_count": 2,
      "id": "4d314e52",
      "metadata": {},
      "outputs": [],
      "source": [
        "url = 'https://raw.githubusercontent.com/data-bootcamp-v4/data/main/file1.csv'\n",
        "df = pd.read_csv(url)"
      ]
    },
    {
      "cell_type": "code",
      "execution_count": 3,
      "id": "317853e3",
      "metadata": {},
      "outputs": [
        {
          "data": {
            "text/html": [
              "<div>\n",
              "<style scoped>\n",
              "    .dataframe tbody tr th:only-of-type {\n",
              "        vertical-align: middle;\n",
              "    }\n",
              "\n",
              "    .dataframe tbody tr th {\n",
              "        vertical-align: top;\n",
              "    }\n",
              "\n",
              "    .dataframe thead th {\n",
              "        text-align: right;\n",
              "    }\n",
              "</style>\n",
              "<table border=\"1\" class=\"dataframe\">\n",
              "  <thead>\n",
              "    <tr style=\"text-align: right;\">\n",
              "      <th></th>\n",
              "      <th>Customer</th>\n",
              "      <th>ST</th>\n",
              "      <th>GENDER</th>\n",
              "      <th>Education</th>\n",
              "      <th>Customer Lifetime Value</th>\n",
              "      <th>Income</th>\n",
              "      <th>Monthly Premium Auto</th>\n",
              "      <th>Number of Open Complaints</th>\n",
              "      <th>Policy Type</th>\n",
              "      <th>Vehicle Class</th>\n",
              "      <th>Total Claim Amount</th>\n",
              "    </tr>\n",
              "  </thead>\n",
              "  <tbody>\n",
              "    <tr>\n",
              "      <th>0</th>\n",
              "      <td>RB50392</td>\n",
              "      <td>Washington</td>\n",
              "      <td>NaN</td>\n",
              "      <td>Master</td>\n",
              "      <td>NaN</td>\n",
              "      <td>0.0</td>\n",
              "      <td>1000.0</td>\n",
              "      <td>1/0/00</td>\n",
              "      <td>Personal Auto</td>\n",
              "      <td>Four-Door Car</td>\n",
              "      <td>2.704934</td>\n",
              "    </tr>\n",
              "    <tr>\n",
              "      <th>1</th>\n",
              "      <td>QZ44356</td>\n",
              "      <td>Arizona</td>\n",
              "      <td>F</td>\n",
              "      <td>Bachelor</td>\n",
              "      <td>697953.59%</td>\n",
              "      <td>0.0</td>\n",
              "      <td>94.0</td>\n",
              "      <td>1/0/00</td>\n",
              "      <td>Personal Auto</td>\n",
              "      <td>Four-Door Car</td>\n",
              "      <td>1131.464935</td>\n",
              "    </tr>\n",
              "    <tr>\n",
              "      <th>2</th>\n",
              "      <td>AI49188</td>\n",
              "      <td>Nevada</td>\n",
              "      <td>F</td>\n",
              "      <td>Bachelor</td>\n",
              "      <td>1288743.17%</td>\n",
              "      <td>48767.0</td>\n",
              "      <td>108.0</td>\n",
              "      <td>1/0/00</td>\n",
              "      <td>Personal Auto</td>\n",
              "      <td>Two-Door Car</td>\n",
              "      <td>566.472247</td>\n",
              "    </tr>\n",
              "    <tr>\n",
              "      <th>3</th>\n",
              "      <td>WW63253</td>\n",
              "      <td>California</td>\n",
              "      <td>M</td>\n",
              "      <td>Bachelor</td>\n",
              "      <td>764586.18%</td>\n",
              "      <td>0.0</td>\n",
              "      <td>106.0</td>\n",
              "      <td>1/0/00</td>\n",
              "      <td>Corporate Auto</td>\n",
              "      <td>SUV</td>\n",
              "      <td>529.881344</td>\n",
              "    </tr>\n",
              "    <tr>\n",
              "      <th>4</th>\n",
              "      <td>GA49547</td>\n",
              "      <td>Washington</td>\n",
              "      <td>M</td>\n",
              "      <td>High School or Below</td>\n",
              "      <td>536307.65%</td>\n",
              "      <td>36357.0</td>\n",
              "      <td>68.0</td>\n",
              "      <td>1/0/00</td>\n",
              "      <td>Personal Auto</td>\n",
              "      <td>Four-Door Car</td>\n",
              "      <td>17.269323</td>\n",
              "    </tr>\n",
              "  </tbody>\n",
              "</table>\n",
              "</div>"
            ],
            "text/plain": [
              "  Customer          ST GENDER             Education Customer Lifetime Value  \\\n",
              "0  RB50392  Washington    NaN                Master                     NaN   \n",
              "1  QZ44356     Arizona      F              Bachelor              697953.59%   \n",
              "2  AI49188      Nevada      F              Bachelor             1288743.17%   \n",
              "3  WW63253  California      M              Bachelor              764586.18%   \n",
              "4  GA49547  Washington      M  High School or Below              536307.65%   \n",
              "\n",
              "    Income  Monthly Premium Auto Number of Open Complaints     Policy Type  \\\n",
              "0      0.0                1000.0                    1/0/00   Personal Auto   \n",
              "1      0.0                  94.0                    1/0/00   Personal Auto   \n",
              "2  48767.0                 108.0                    1/0/00   Personal Auto   \n",
              "3      0.0                 106.0                    1/0/00  Corporate Auto   \n",
              "4  36357.0                  68.0                    1/0/00   Personal Auto   \n",
              "\n",
              "   Vehicle Class  Total Claim Amount  \n",
              "0  Four-Door Car            2.704934  \n",
              "1  Four-Door Car         1131.464935  \n",
              "2   Two-Door Car          566.472247  \n",
              "3            SUV          529.881344  \n",
              "4  Four-Door Car           17.269323  "
            ]
          },
          "execution_count": 3,
          "metadata": {},
          "output_type": "execute_result"
        }
      ],
      "source": [
        "df.head()"
      ]
    },
    {
      "cell_type": "code",
      "execution_count": 4,
      "id": "6aad447f",
      "metadata": {},
      "outputs": [
        {
          "data": {
            "text/html": [
              "<div>\n",
              "<style scoped>\n",
              "    .dataframe tbody tr th:only-of-type {\n",
              "        vertical-align: middle;\n",
              "    }\n",
              "\n",
              "    .dataframe tbody tr th {\n",
              "        vertical-align: top;\n",
              "    }\n",
              "\n",
              "    .dataframe thead th {\n",
              "        text-align: right;\n",
              "    }\n",
              "</style>\n",
              "<table border=\"1\" class=\"dataframe\">\n",
              "  <thead>\n",
              "    <tr style=\"text-align: right;\">\n",
              "      <th></th>\n",
              "      <th>customer</th>\n",
              "      <th>state</th>\n",
              "      <th>gender</th>\n",
              "      <th>education</th>\n",
              "      <th>customer_lifetime_value</th>\n",
              "      <th>income</th>\n",
              "      <th>monthly_premium_auto</th>\n",
              "      <th>number_of_open_complaints</th>\n",
              "      <th>policy_type</th>\n",
              "      <th>vehicle_class</th>\n",
              "      <th>total_claim_amount</th>\n",
              "    </tr>\n",
              "  </thead>\n",
              "  <tbody>\n",
              "    <tr>\n",
              "      <th>0</th>\n",
              "      <td>RB50392</td>\n",
              "      <td>Washington</td>\n",
              "      <td>NaN</td>\n",
              "      <td>Master</td>\n",
              "      <td>NaN</td>\n",
              "      <td>0.0</td>\n",
              "      <td>1000.0</td>\n",
              "      <td>1/0/00</td>\n",
              "      <td>Personal Auto</td>\n",
              "      <td>Four-Door Car</td>\n",
              "      <td>2.704934</td>\n",
              "    </tr>\n",
              "    <tr>\n",
              "      <th>1</th>\n",
              "      <td>QZ44356</td>\n",
              "      <td>Arizona</td>\n",
              "      <td>F</td>\n",
              "      <td>Bachelor</td>\n",
              "      <td>697953.59%</td>\n",
              "      <td>0.0</td>\n",
              "      <td>94.0</td>\n",
              "      <td>1/0/00</td>\n",
              "      <td>Personal Auto</td>\n",
              "      <td>Four-Door Car</td>\n",
              "      <td>1131.464935</td>\n",
              "    </tr>\n",
              "    <tr>\n",
              "      <th>2</th>\n",
              "      <td>AI49188</td>\n",
              "      <td>Nevada</td>\n",
              "      <td>F</td>\n",
              "      <td>Bachelor</td>\n",
              "      <td>1288743.17%</td>\n",
              "      <td>48767.0</td>\n",
              "      <td>108.0</td>\n",
              "      <td>1/0/00</td>\n",
              "      <td>Personal Auto</td>\n",
              "      <td>Two-Door Car</td>\n",
              "      <td>566.472247</td>\n",
              "    </tr>\n",
              "    <tr>\n",
              "      <th>3</th>\n",
              "      <td>WW63253</td>\n",
              "      <td>California</td>\n",
              "      <td>M</td>\n",
              "      <td>Bachelor</td>\n",
              "      <td>764586.18%</td>\n",
              "      <td>0.0</td>\n",
              "      <td>106.0</td>\n",
              "      <td>1/0/00</td>\n",
              "      <td>Corporate Auto</td>\n",
              "      <td>SUV</td>\n",
              "      <td>529.881344</td>\n",
              "    </tr>\n",
              "    <tr>\n",
              "      <th>4</th>\n",
              "      <td>GA49547</td>\n",
              "      <td>Washington</td>\n",
              "      <td>M</td>\n",
              "      <td>High School or Below</td>\n",
              "      <td>536307.65%</td>\n",
              "      <td>36357.0</td>\n",
              "      <td>68.0</td>\n",
              "      <td>1/0/00</td>\n",
              "      <td>Personal Auto</td>\n",
              "      <td>Four-Door Car</td>\n",
              "      <td>17.269323</td>\n",
              "    </tr>\n",
              "  </tbody>\n",
              "</table>\n",
              "</div>"
            ],
            "text/plain": [
              "  customer       state gender             education customer_lifetime_value  \\\n",
              "0  RB50392  Washington    NaN                Master                     NaN   \n",
              "1  QZ44356     Arizona      F              Bachelor              697953.59%   \n",
              "2  AI49188      Nevada      F              Bachelor             1288743.17%   \n",
              "3  WW63253  California      M              Bachelor              764586.18%   \n",
              "4  GA49547  Washington      M  High School or Below              536307.65%   \n",
              "\n",
              "    income  monthly_premium_auto number_of_open_complaints     policy_type  \\\n",
              "0      0.0                1000.0                    1/0/00   Personal Auto   \n",
              "1      0.0                  94.0                    1/0/00   Personal Auto   \n",
              "2  48767.0                 108.0                    1/0/00   Personal Auto   \n",
              "3      0.0                 106.0                    1/0/00  Corporate Auto   \n",
              "4  36357.0                  68.0                    1/0/00   Personal Auto   \n",
              "\n",
              "   vehicle_class  total_claim_amount  \n",
              "0  Four-Door Car            2.704934  \n",
              "1  Four-Door Car         1131.464935  \n",
              "2   Two-Door Car          566.472247  \n",
              "3            SUV          529.881344  \n",
              "4  Four-Door Car           17.269323  "
            ]
          },
          "execution_count": 4,
          "metadata": {},
          "output_type": "execute_result"
        }
      ],
      "source": [
        "df.columns = (\n",
        "    df.columns\n",
        "    .str.lower()\n",
        "    .str.replace(r'\\bst\\b', 'state', regex=True)\n",
        "    .str.replace(' ', '_')\n",
        "    )\n",
        "df.head()"
      ]
    },
    {
      "cell_type": "markdown",
      "id": "9cb501ec-36ff-4589-b872-6252bb150316",
      "metadata": {
        "id": "9cb501ec-36ff-4589-b872-6252bb150316"
      },
      "source": [
        "## Exercise 2: Cleaning invalid Values"
      ]
    },
    {
      "cell_type": "markdown",
      "id": "771fdcf3-8e20-4b06-9c24-3a93ba2b0909",
      "metadata": {
        "id": "771fdcf3-8e20-4b06-9c24-3a93ba2b0909"
      },
      "source": [
        "The dataset contains columns with inconsistent and incorrect values that could affect the accuracy of our analysis. Therefore, we need to clean these columns to ensure that they only contain valid data.\n",
        "\n",
        "Note that this exercise will focus only on cleaning inconsistent values and will not involve handling null values (NaN or None).\n",
        "\n",
        "*Hint*:\n",
        "- *Gender column contains various inconsistent values such as \"F\", \"M\", \"Femal\", \"Male\", \"female\", which need to be standardized, for example, to \"M\" and \"F\".*\n",
        "- *State abbreviations be can replaced with its full name, for example \"AZ\": \"Arizona\", \"Cali\": \"California\", \"WA\": \"Washington\"*\n",
        "- *In education, \"Bachelors\" could be replaced by \"Bachelor\"*\n",
        "- *In Customer Lifetime Value, delete the `%` character*\n",
        "- *In vehicle class, \"Sports Car\", \"Luxury SUV\" and \"Luxury Car\" could be replaced by \"Luxury\"*"
      ]
    },
    {
      "cell_type": "code",
      "execution_count": 6,
      "id": "3f8ee5cb-50ab-48af-8a9f-9a389804033c",
      "metadata": {
        "id": "3f8ee5cb-50ab-48af-8a9f-9a389804033c"
      },
      "outputs": [],
      "source": [
        "# Your code here\n",
        "df['gender'] = df['gender'].replace({\n",
        "    'Female': 'F',\n",
        "    'Femal': 'F',\n",
        "    'female': 'F',\n",
        "    'F': 'F',\n",
        "    'Male': 'M',\n",
        "    'M': 'M',\n",
        "    'male': 'M'\n",
        "})"
      ]
    },
    {
      "cell_type": "code",
      "execution_count": 7,
      "id": "a726191b",
      "metadata": {},
      "outputs": [],
      "source": [
        "df['state'] = df['state'].replace({\n",
        "    'AZ': 'Arizona',\n",
        "    'Cali': 'California',\n",
        "    'WA': 'Washington'\n",
        "})"
      ]
    },
    {
      "cell_type": "code",
      "execution_count": 8,
      "id": "c78ad144",
      "metadata": {
        "vscode": {
          "languageId": "javascript"
        }
      },
      "outputs": [],
      "source": [
        "df['state'] = df['state'].replace({\n",
        "    'AZ': 'Arizona',\n",
        "    'Cali': 'California',\n",
        "    'WA': 'Washington'\n",
        "})"
      ]
    },
    {
      "cell_type": "code",
      "execution_count": 9,
      "id": "e0a97c65",
      "metadata": {
        "vscode": {
          "languageId": "javascript"
        }
      },
      "outputs": [],
      "source": [
        "df['education'] = df['education'].replace({'Bachelors': 'Bachelor'})"
      ]
    },
    {
      "cell_type": "code",
      "execution_count": 10,
      "id": "9912c16b",
      "metadata": {},
      "outputs": [],
      "source": [
        "df['customer_lifetime_value'] = df['customer_lifetime_value'].str.replace('%', '', regex=False)"
      ]
    },
    {
      "cell_type": "code",
      "execution_count": 11,
      "id": "910151ba",
      "metadata": {
        "vscode": {
          "languageId": "javascript"
        }
      },
      "outputs": [],
      "source": [
        "df['vehicle_class'] = df['vehicle_class'].replace({\n",
        "    'Sports Car': 'Luxury',\n",
        "    'Luxury SUV': 'Luxury',\n",
        "    'Luxury Car': 'Luxury'\n",
        "})"
      ]
    },
    {
      "cell_type": "code",
      "execution_count": 12,
      "id": "b7d2ac58",
      "metadata": {
        "vscode": {
          "languageId": "javascript"
        }
      },
      "outputs": [
        {
          "data": {
            "text/html": [
              "<div>\n",
              "<style scoped>\n",
              "    .dataframe tbody tr th:only-of-type {\n",
              "        vertical-align: middle;\n",
              "    }\n",
              "\n",
              "    .dataframe tbody tr th {\n",
              "        vertical-align: top;\n",
              "    }\n",
              "\n",
              "    .dataframe thead th {\n",
              "        text-align: right;\n",
              "    }\n",
              "</style>\n",
              "<table border=\"1\" class=\"dataframe\">\n",
              "  <thead>\n",
              "    <tr style=\"text-align: right;\">\n",
              "      <th></th>\n",
              "      <th>customer</th>\n",
              "      <th>state</th>\n",
              "      <th>gender</th>\n",
              "      <th>education</th>\n",
              "      <th>customer_lifetime_value</th>\n",
              "      <th>income</th>\n",
              "      <th>monthly_premium_auto</th>\n",
              "      <th>number_of_open_complaints</th>\n",
              "      <th>policy_type</th>\n",
              "      <th>vehicle_class</th>\n",
              "      <th>total_claim_amount</th>\n",
              "    </tr>\n",
              "  </thead>\n",
              "  <tbody>\n",
              "    <tr>\n",
              "      <th>31</th>\n",
              "      <td>UL64533</td>\n",
              "      <td>Nevada</td>\n",
              "      <td>NaN</td>\n",
              "      <td>High School or Below</td>\n",
              "      <td>1897545.61</td>\n",
              "      <td>65999.0</td>\n",
              "      <td>237.0</td>\n",
              "      <td>1/0/00</td>\n",
              "      <td>Corporate Auto</td>\n",
              "      <td>Luxury</td>\n",
              "      <td>615.927769</td>\n",
              "    </tr>\n",
              "    <tr>\n",
              "      <th>43</th>\n",
              "      <td>SR38658</td>\n",
              "      <td>Arizona</td>\n",
              "      <td>NaN</td>\n",
              "      <td>High School or Below</td>\n",
              "      <td>1223187.97</td>\n",
              "      <td>43244.0</td>\n",
              "      <td>103.0</td>\n",
              "      <td>1/0/00</td>\n",
              "      <td>Personal Auto</td>\n",
              "      <td>Luxury</td>\n",
              "      <td>494.400000</td>\n",
              "    </tr>\n",
              "    <tr>\n",
              "      <th>73</th>\n",
              "      <td>HB20453</td>\n",
              "      <td>Oregon</td>\n",
              "      <td>NaN</td>\n",
              "      <td>Bachelor</td>\n",
              "      <td>678127.02</td>\n",
              "      <td>0.0</td>\n",
              "      <td>104.0</td>\n",
              "      <td>1/1/00</td>\n",
              "      <td>Personal Auto</td>\n",
              "      <td>Luxury</td>\n",
              "      <td>982.399613</td>\n",
              "    </tr>\n",
              "    <tr>\n",
              "      <th>79</th>\n",
              "      <td>OM82309</td>\n",
              "      <td>California</td>\n",
              "      <td>NaN</td>\n",
              "      <td>Bachelor</td>\n",
              "      <td>5816655.35</td>\n",
              "      <td>61321.0</td>\n",
              "      <td>186.0</td>\n",
              "      <td>1/1/00</td>\n",
              "      <td>Personal Auto</td>\n",
              "      <td>Luxury</td>\n",
              "      <td>427.631210</td>\n",
              "    </tr>\n",
              "    <tr>\n",
              "      <th>121</th>\n",
              "      <td>CW82151</td>\n",
              "      <td>California</td>\n",
              "      <td>NaN</td>\n",
              "      <td>Bachelor</td>\n",
              "      <td>890273.76</td>\n",
              "      <td>46833.0</td>\n",
              "      <td>112.0</td>\n",
              "      <td>1/0/00</td>\n",
              "      <td>Personal Auto</td>\n",
              "      <td>Luxury</td>\n",
              "      <td>64.109663</td>\n",
              "    </tr>\n",
              "    <tr>\n",
              "      <th>...</th>\n",
              "      <td>...</td>\n",
              "      <td>...</td>\n",
              "      <td>...</td>\n",
              "      <td>...</td>\n",
              "      <td>...</td>\n",
              "      <td>...</td>\n",
              "      <td>...</td>\n",
              "      <td>...</td>\n",
              "      <td>...</td>\n",
              "      <td>...</td>\n",
              "      <td>...</td>\n",
              "    </tr>\n",
              "    <tr>\n",
              "      <th>992</th>\n",
              "      <td>TI92884</td>\n",
              "      <td>Arizona</td>\n",
              "      <td>M</td>\n",
              "      <td>Bachelor</td>\n",
              "      <td>1262283.27</td>\n",
              "      <td>61844.0</td>\n",
              "      <td>106.0</td>\n",
              "      <td>1/0/00</td>\n",
              "      <td>Personal Auto</td>\n",
              "      <td>Luxury</td>\n",
              "      <td>508.800000</td>\n",
              "    </tr>\n",
              "    <tr>\n",
              "      <th>1008</th>\n",
              "      <td>AM97901</td>\n",
              "      <td>Nevada</td>\n",
              "      <td>F</td>\n",
              "      <td>College</td>\n",
              "      <td>2298615.39</td>\n",
              "      <td>84831.0</td>\n",
              "      <td>192.0</td>\n",
              "      <td>1/0/00</td>\n",
              "      <td>Special Auto</td>\n",
              "      <td>Luxury</td>\n",
              "      <td>1336.931716</td>\n",
              "    </tr>\n",
              "    <tr>\n",
              "      <th>1011</th>\n",
              "      <td>CH85057</td>\n",
              "      <td>Oregon</td>\n",
              "      <td>F</td>\n",
              "      <td>Doctor</td>\n",
              "      <td>1146399.10</td>\n",
              "      <td>45354.0</td>\n",
              "      <td>285.0</td>\n",
              "      <td>1/0/00</td>\n",
              "      <td>Personal Auto</td>\n",
              "      <td>Luxury</td>\n",
              "      <td>540.141566</td>\n",
              "    </tr>\n",
              "    <tr>\n",
              "      <th>1028</th>\n",
              "      <td>JX76668</td>\n",
              "      <td>Washington</td>\n",
              "      <td>F</td>\n",
              "      <td>High School or Below</td>\n",
              "      <td>1131424.39</td>\n",
              "      <td>62935.0</td>\n",
              "      <td>141.0</td>\n",
              "      <td>1/0/00</td>\n",
              "      <td>Personal Auto</td>\n",
              "      <td>Luxury</td>\n",
              "      <td>232.242326</td>\n",
              "    </tr>\n",
              "    <tr>\n",
              "      <th>1058</th>\n",
              "      <td>UX92071</td>\n",
              "      <td>Oregon</td>\n",
              "      <td>M</td>\n",
              "      <td>High School or Below</td>\n",
              "      <td>674311.93</td>\n",
              "      <td>0.0</td>\n",
              "      <td>199.0</td>\n",
              "      <td>1/0/00</td>\n",
              "      <td>Personal Auto</td>\n",
              "      <td>Luxury</td>\n",
              "      <td>955.200000</td>\n",
              "    </tr>\n",
              "  </tbody>\n",
              "</table>\n",
              "<p>91 rows × 11 columns</p>\n",
              "</div>"
            ],
            "text/plain": [
              "     customer       state gender             education  \\\n",
              "31    UL64533      Nevada    NaN  High School or Below   \n",
              "43    SR38658     Arizona    NaN  High School or Below   \n",
              "73    HB20453      Oregon    NaN              Bachelor   \n",
              "79    OM82309  California    NaN              Bachelor   \n",
              "121   CW82151  California    NaN              Bachelor   \n",
              "...       ...         ...    ...                   ...   \n",
              "992   TI92884     Arizona      M              Bachelor   \n",
              "1008  AM97901      Nevada      F               College   \n",
              "1011  CH85057      Oregon      F                Doctor   \n",
              "1028  JX76668  Washington      F  High School or Below   \n",
              "1058  UX92071      Oregon      M  High School or Below   \n",
              "\n",
              "     customer_lifetime_value   income  monthly_premium_auto  \\\n",
              "31                1897545.61  65999.0                 237.0   \n",
              "43                1223187.97  43244.0                 103.0   \n",
              "73                 678127.02      0.0                 104.0   \n",
              "79                5816655.35  61321.0                 186.0   \n",
              "121                890273.76  46833.0                 112.0   \n",
              "...                      ...      ...                   ...   \n",
              "992               1262283.27  61844.0                 106.0   \n",
              "1008              2298615.39  84831.0                 192.0   \n",
              "1011              1146399.10  45354.0                 285.0   \n",
              "1028              1131424.39  62935.0                 141.0   \n",
              "1058               674311.93      0.0                 199.0   \n",
              "\n",
              "     number_of_open_complaints     policy_type vehicle_class  \\\n",
              "31                      1/0/00  Corporate Auto        Luxury   \n",
              "43                      1/0/00   Personal Auto        Luxury   \n",
              "73                      1/1/00   Personal Auto        Luxury   \n",
              "79                      1/1/00   Personal Auto        Luxury   \n",
              "121                     1/0/00   Personal Auto        Luxury   \n",
              "...                        ...             ...           ...   \n",
              "992                     1/0/00   Personal Auto        Luxury   \n",
              "1008                    1/0/00    Special Auto        Luxury   \n",
              "1011                    1/0/00   Personal Auto        Luxury   \n",
              "1028                    1/0/00   Personal Auto        Luxury   \n",
              "1058                    1/0/00   Personal Auto        Luxury   \n",
              "\n",
              "      total_claim_amount  \n",
              "31            615.927769  \n",
              "43            494.400000  \n",
              "73            982.399613  \n",
              "79            427.631210  \n",
              "121            64.109663  \n",
              "...                  ...  \n",
              "992           508.800000  \n",
              "1008         1336.931716  \n",
              "1011          540.141566  \n",
              "1028          232.242326  \n",
              "1058          955.200000  \n",
              "\n",
              "[91 rows x 11 columns]"
            ]
          },
          "execution_count": 12,
          "metadata": {},
          "output_type": "execute_result"
        }
      ],
      "source": [
        "result = df[df['vehicle_class'] == 'Luxury']\n",
        "result"
      ]
    },
    {
      "cell_type": "markdown",
      "id": "85ff78ce-0174-4890-9db3-8048b7d7d2d0",
      "metadata": {
        "id": "85ff78ce-0174-4890-9db3-8048b7d7d2d0"
      },
      "source": [
        "## Exercise 3: Formatting data types"
      ]
    },
    {
      "cell_type": "markdown",
      "id": "b91c2cf8-79a2-4baf-9f65-ff2fb22270bd",
      "metadata": {
        "id": "b91c2cf8-79a2-4baf-9f65-ff2fb22270bd"
      },
      "source": [
        "The data types of many columns in the dataset appear to be incorrect. This could impact the accuracy of our analysis. To ensure accurate analysis, we need to correct the data types of these columns. Please update the data types of the columns as appropriate."
      ]
    },
    {
      "cell_type": "markdown",
      "id": "43e5d853-ff9e-43b2-9d92-aef2f78764f3",
      "metadata": {
        "id": "43e5d853-ff9e-43b2-9d92-aef2f78764f3"
      },
      "source": [
        "It is important to note that this exercise does not involve handling null values (NaN or None)."
      ]
    },
    {
      "cell_type": "markdown",
      "id": "329ca691-9196-4419-8969-3596746237a1",
      "metadata": {
        "id": "329ca691-9196-4419-8969-3596746237a1"
      },
      "source": [
        "*Hint*:\n",
        "- *Customer lifetime value should be numeric*\n",
        "- *Number of open complaints has an incorrect format. Look at the different values it takes with `unique()` and take the middle value. As an example, 1/5/00 should be 5. Number of open complaints is a string - remember you can use `split()` to deal with it and take the number you need. Finally, since it should be numeric, cast the column to be in its proper type.*"
      ]
    },
    {
      "cell_type": "code",
      "execution_count": 20,
      "id": "1e4a140d",
      "metadata": {},
      "outputs": [
        {
          "data": {
            "text/plain": [
              "0              NaN\n",
              "1        697953.59\n",
              "2       1288743.17\n",
              "3        764586.18\n",
              "4        536307.65\n",
              "           ...    \n",
              "4003           NaN\n",
              "4004           NaN\n",
              "4005           NaN\n",
              "4006           NaN\n",
              "4007           NaN\n",
              "Name: customer_lifetime_value, Length: 4008, dtype: float64"
            ]
          },
          "execution_count": 20,
          "metadata": {},
          "output_type": "execute_result"
        }
      ],
      "source": [
        "df['customer_lifetime_value'] = pd.to_numeric(df['customer_lifetime_value'], errors='coerce')\n",
        "df['customer_lifetime_value']"
      ]
    },
    {
      "cell_type": "code",
      "execution_count": 22,
      "id": "424a928a",
      "metadata": {},
      "outputs": [
        {
          "data": {
            "text/plain": [
              "<IntegerArray>\n",
              "[0, 2, 1, 3, 5, 4, <NA>]\n",
              "Length: 7, dtype: Int64"
            ]
          },
          "execution_count": 22,
          "metadata": {},
          "output_type": "execute_result"
        }
      ],
      "source": [
        "df['number_of_open_complaints'] = df['number_of_open_complaints'].apply(\n",
        "    lambda x: int(str(x).split('/')[1]) if pd.notnull(x) and '/' in str(x) else pd.to_numeric(x, errors='coerce')\n",
        ")\n",
        "df['number_of_open_complaints'] = df['number_of_open_complaints'].astype('Int64')\n",
        "df['number_of_open_complaints'].unique()"
      ]
    },
    {
      "cell_type": "markdown",
      "id": "14c52e28-2d0c-4dd2-8bd5-3476e34fadc1",
      "metadata": {
        "id": "14c52e28-2d0c-4dd2-8bd5-3476e34fadc1"
      },
      "source": [
        "## Exercise 4: Dealing with Null values"
      ]
    },
    {
      "cell_type": "markdown",
      "id": "34b9a20f-7d32-4417-975e-1b4dfb0e16cd",
      "metadata": {
        "id": "34b9a20f-7d32-4417-975e-1b4dfb0e16cd"
      },
      "source": [
        "Identify any columns with null or missing values. Identify how many null values each column has. You can use the `isnull()` function in pandas to find columns with null values.\n",
        "\n",
        "Decide on a strategy for handling the null values. There are several options, including:\n",
        "\n",
        "- Drop the rows or columns with null values\n",
        "- Fill the null values with a specific value (such as the column mean or median for numerical variables, and mode for categorical variables)\n",
        "- Fill the null values with the previous or next value in the column\n",
        "- Fill the null values based on a more complex algorithm or model (note: we haven't covered this yet)\n",
        "\n",
        "Implement your chosen strategy to handle the null values. You can use the `fillna()` function in pandas to fill null values or `dropna()` function to drop null values.\n",
        "\n",
        "Verify that your strategy has successfully handled the null values. You can use the `isnull()` function again to check if there are still null values in the dataset.\n",
        "\n",
        "Remember to document your process and explain your reasoning for choosing a particular strategy for handling null values.\n",
        "\n",
        "After formatting data types, as a last step, convert all the numeric variables to integers."
      ]
    },
    {
      "cell_type": "code",
      "execution_count": 23,
      "id": "f184fc35-7831-4836-a0a5-e7f99e01b40e",
      "metadata": {
        "id": "f184fc35-7831-4836-a0a5-e7f99e01b40e"
      },
      "outputs": [
        {
          "name": "stdout",
          "output_type": "stream",
          "text": [
            "Null values per column:\n",
            " customer                     2937\n",
            "state                        2937\n",
            "gender                       3054\n",
            "education                    2937\n",
            "customer_lifetime_value      2940\n",
            "income                       2937\n",
            "monthly_premium_auto         2937\n",
            "number_of_open_complaints    2937\n",
            "policy_type                  2937\n",
            "vehicle_class                2937\n",
            "total_claim_amount           2937\n",
            "dtype: int64\n"
          ]
        }
      ],
      "source": [
        "# Your code here\n",
        "# Identify columns with null values and count them\n",
        "null_counts = df.isnull().sum()\n",
        "print(\"Null values per column:\\n\", null_counts)"
      ]
    },
    {
      "cell_type": "code",
      "execution_count": 25,
      "id": "dcc81be8",
      "metadata": {},
      "outputs": [],
      "source": [
        "# Fill categorical columns with mode\n",
        "categorical_cols = df.select_dtypes(include='object').columns\n",
        "for col in categorical_cols:\n",
        "    mode = df[col].mode(dropna=True)\n",
        "    if not mode.empty:\n",
        "        df[col] = df[col].fillna(mode[0])"
      ]
    },
    {
      "cell_type": "code",
      "execution_count": 26,
      "id": "afa13106",
      "metadata": {},
      "outputs": [],
      "source": [
        "# Fill numerical columns with median\n",
        "numerical_cols = df.select_dtypes(include=['float64', 'Int64']).columns\n",
        "for col in numerical_cols:\n",
        "    median = df[col].median()\n",
        "    df[col] = df[col].fillna(median)"
      ]
    },
    {
      "cell_type": "code",
      "execution_count": 27,
      "id": "4e43e98a",
      "metadata": {},
      "outputs": [],
      "source": [
        "# Drop rows where all values are null\n",
        "df = df.dropna(how='all')"
      ]
    },
    {
      "cell_type": "code",
      "execution_count": 28,
      "id": "a5b8fb42",
      "metadata": {},
      "outputs": [
        {
          "name": "stdout",
          "output_type": "stream",
          "text": [
            "Null values after cleaning:\n",
            " customer                     0\n",
            "state                        0\n",
            "gender                       0\n",
            "education                    0\n",
            "customer_lifetime_value      0\n",
            "income                       0\n",
            "monthly_premium_auto         0\n",
            "number_of_open_complaints    0\n",
            "policy_type                  0\n",
            "vehicle_class                0\n",
            "total_claim_amount           0\n",
            "dtype: int64\n"
          ]
        }
      ],
      "source": [
        "# Verify nulls are handled\n",
        "print(\"Null values after cleaning:\\n\", df.isnull().sum())"
      ]
    },
    {
      "cell_type": "code",
      "execution_count": 29,
      "id": "7887974b",
      "metadata": {},
      "outputs": [
        {
          "data": {
            "text/html": [
              "<div>\n",
              "<style scoped>\n",
              "    .dataframe tbody tr th:only-of-type {\n",
              "        vertical-align: middle;\n",
              "    }\n",
              "\n",
              "    .dataframe tbody tr th {\n",
              "        vertical-align: top;\n",
              "    }\n",
              "\n",
              "    .dataframe thead th {\n",
              "        text-align: right;\n",
              "    }\n",
              "</style>\n",
              "<table border=\"1\" class=\"dataframe\">\n",
              "  <thead>\n",
              "    <tr style=\"text-align: right;\">\n",
              "      <th></th>\n",
              "      <th>customer</th>\n",
              "      <th>state</th>\n",
              "      <th>gender</th>\n",
              "      <th>education</th>\n",
              "      <th>customer_lifetime_value</th>\n",
              "      <th>income</th>\n",
              "      <th>monthly_premium_auto</th>\n",
              "      <th>number_of_open_complaints</th>\n",
              "      <th>policy_type</th>\n",
              "      <th>vehicle_class</th>\n",
              "      <th>total_claim_amount</th>\n",
              "    </tr>\n",
              "  </thead>\n",
              "  <tbody>\n",
              "    <tr>\n",
              "      <th>0</th>\n",
              "      <td>RB50392</td>\n",
              "      <td>Washington</td>\n",
              "      <td>F</td>\n",
              "      <td>Master</td>\n",
              "      <td>588174</td>\n",
              "      <td>0</td>\n",
              "      <td>1000</td>\n",
              "      <td>0</td>\n",
              "      <td>Personal Auto</td>\n",
              "      <td>Four-Door Car</td>\n",
              "      <td>2</td>\n",
              "    </tr>\n",
              "    <tr>\n",
              "      <th>1</th>\n",
              "      <td>QZ44356</td>\n",
              "      <td>Arizona</td>\n",
              "      <td>F</td>\n",
              "      <td>Bachelor</td>\n",
              "      <td>697953</td>\n",
              "      <td>0</td>\n",
              "      <td>94</td>\n",
              "      <td>0</td>\n",
              "      <td>Personal Auto</td>\n",
              "      <td>Four-Door Car</td>\n",
              "      <td>1131</td>\n",
              "    </tr>\n",
              "    <tr>\n",
              "      <th>2</th>\n",
              "      <td>AI49188</td>\n",
              "      <td>Nevada</td>\n",
              "      <td>F</td>\n",
              "      <td>Bachelor</td>\n",
              "      <td>1288743</td>\n",
              "      <td>48767</td>\n",
              "      <td>108</td>\n",
              "      <td>0</td>\n",
              "      <td>Personal Auto</td>\n",
              "      <td>Two-Door Car</td>\n",
              "      <td>566</td>\n",
              "    </tr>\n",
              "    <tr>\n",
              "      <th>3</th>\n",
              "      <td>WW63253</td>\n",
              "      <td>California</td>\n",
              "      <td>M</td>\n",
              "      <td>Bachelor</td>\n",
              "      <td>764586</td>\n",
              "      <td>0</td>\n",
              "      <td>106</td>\n",
              "      <td>0</td>\n",
              "      <td>Corporate Auto</td>\n",
              "      <td>SUV</td>\n",
              "      <td>529</td>\n",
              "    </tr>\n",
              "    <tr>\n",
              "      <th>4</th>\n",
              "      <td>GA49547</td>\n",
              "      <td>Washington</td>\n",
              "      <td>M</td>\n",
              "      <td>High School or Below</td>\n",
              "      <td>536307</td>\n",
              "      <td>36357</td>\n",
              "      <td>68</td>\n",
              "      <td>0</td>\n",
              "      <td>Personal Auto</td>\n",
              "      <td>Four-Door Car</td>\n",
              "      <td>17</td>\n",
              "    </tr>\n",
              "  </tbody>\n",
              "</table>\n",
              "</div>"
            ],
            "text/plain": [
              "  customer       state gender             education  customer_lifetime_value  \\\n",
              "0  RB50392  Washington      F                Master                   588174   \n",
              "1  QZ44356     Arizona      F              Bachelor                   697953   \n",
              "2  AI49188      Nevada      F              Bachelor                  1288743   \n",
              "3  WW63253  California      M              Bachelor                   764586   \n",
              "4  GA49547  Washington      M  High School or Below                   536307   \n",
              "\n",
              "   income  monthly_premium_auto  number_of_open_complaints     policy_type  \\\n",
              "0       0                  1000                          0   Personal Auto   \n",
              "1       0                    94                          0   Personal Auto   \n",
              "2   48767                   108                          0   Personal Auto   \n",
              "3       0                   106                          0  Corporate Auto   \n",
              "4   36357                    68                          0   Personal Auto   \n",
              "\n",
              "   vehicle_class  total_claim_amount  \n",
              "0  Four-Door Car                   2  \n",
              "1  Four-Door Car                1131  \n",
              "2   Two-Door Car                 566  \n",
              "3            SUV                 529  \n",
              "4  Four-Door Car                  17  "
            ]
          },
          "execution_count": 29,
          "metadata": {},
          "output_type": "execute_result"
        }
      ],
      "source": [
        "# Convert all numeric columns to integers (where possible)\n",
        "for col in numerical_cols:\n",
        "    df[col] = df[col].astype('int64')\n",
        "\n",
        "df.head()"
      ]
    },
    {
      "cell_type": "markdown",
      "id": "98416351-e999-4156-9834-9b00a311adfa",
      "metadata": {
        "id": "98416351-e999-4156-9834-9b00a311adfa"
      },
      "source": [
        "## Exercise 5: Dealing with duplicates"
      ]
    },
    {
      "cell_type": "markdown",
      "id": "ea0816a7-a18e-4d4c-b667-a8452a800bd1",
      "metadata": {
        "id": "ea0816a7-a18e-4d4c-b667-a8452a800bd1"
      },
      "source": [
        "Use the `.duplicated()` method to identify any duplicate rows in the dataframe.\n",
        "\n",
        "Decide on a strategy for handling the duplicates. Options include:\n",
        "- Dropping all duplicate rows\n",
        "- Keeping only the first occurrence of each duplicated row\n",
        "- Keeping only the last occurrence of each duplicated row\n",
        "- Dropping duplicates based on a subset of columns\n",
        "- Dropping duplicates based on a specific column\n",
        "\n",
        "Implement your chosen strategy using the `drop_duplicates()` function.\n",
        "\n",
        "Verify that your strategy has successfully handled the duplicates by checking for duplicates again using `.duplicated()`.\n",
        "\n",
        "Remember to document your process and explain your reasoning for choosing a particular strategy for handling duplicates.\n",
        "\n",
        "Save the cleaned dataset to a new CSV file.\n",
        "\n",
        "*Hint*: *after dropping duplicates, reset the index to ensure consistency*."
      ]
    },
    {
      "cell_type": "code",
      "execution_count": 31,
      "id": "1929362c-47ed-47cb-baca-358b78d401a0",
      "metadata": {
        "id": "1929362c-47ed-47cb-baca-358b78d401a0"
      },
      "outputs": [
        {
          "name": "stdout",
          "output_type": "stream",
          "text": [
            "2937\n"
          ]
        }
      ],
      "source": [
        "# Your code here\n",
        "duplicates = df['customer'].duplicated().sum()\n",
        "print(duplicates)"
      ]
    },
    {
      "cell_type": "code",
      "execution_count": 32,
      "id": "a588ea64",
      "metadata": {},
      "outputs": [],
      "source": [
        "# Drop duplicates based on the 'customer' column, keeping the first occurrence\n",
        "df = df.drop_duplicates(subset='customer', keep='first').reset_index(drop=True)"
      ]
    },
    {
      "cell_type": "code",
      "execution_count": 33,
      "id": "db976abc",
      "metadata": {},
      "outputs": [
        {
          "name": "stdout",
          "output_type": "stream",
          "text": [
            "Number of duplicates after cleaning: 0\n"
          ]
        }
      ],
      "source": [
        "# Verify that duplicates have been removed\n",
        "duplicates_after = df['customer'].duplicated().sum()\n",
        "print(f\"Number of duplicates after cleaning: {duplicates_after}\")"
      ]
    },
    {
      "cell_type": "code",
      "execution_count": 34,
      "id": "63e365e1",
      "metadata": {},
      "outputs": [],
      "source": [
        "# Save the cleaned dataset to a new CSV file\n",
        "df.to_csv('cleaned_customer_data.csv', index=False)"
      ]
    },
    {
      "cell_type": "code",
      "execution_count": null,
      "id": "ea79c581",
      "metadata": {},
      "outputs": [],
      "source": [
        "# Documentation:\n",
        "# I chose to drop duplicates based on the 'customer' column to ensure each customer appears only once in the dataset to assess demographics."
      ]
    },
    {
      "cell_type": "markdown",
      "id": "60840701-4783-40e2-b4d8-55303f9100c9",
      "metadata": {
        "id": "60840701-4783-40e2-b4d8-55303f9100c9"
      },
      "source": [
        "# Bonus: Challenge 2: creating functions on a separate `py` file"
      ]
    },
    {
      "cell_type": "markdown",
      "id": "9d1adb3a-17cf-4899-8041-da21a4337fb4",
      "metadata": {
        "id": "9d1adb3a-17cf-4899-8041-da21a4337fb4"
      },
      "source": [
        "Put all the data cleaning and formatting steps into functions, and create a main function that performs all the cleaning and formatting.\n",
        "\n",
        "Write these functions in separate .py file(s). By putting these steps into functions, we can make the code more modular and easier to maintain."
      ]
    },
    {
      "cell_type": "markdown",
      "id": "0e170dc2-b62c-417a-8248-e63ed18a70c4",
      "metadata": {
        "id": "0e170dc2-b62c-417a-8248-e63ed18a70c4"
      },
      "source": [
        "*Hint: autoreload module is a utility module in Python that allows you to automatically reload modules in the current session when changes are made to the source code. This can be useful in situations where you are actively developing code and want to see the effects of changes you make without having to constantly restart the Python interpreter or Jupyter Notebook kernel.*"
      ]
    },
    {
      "cell_type": "code",
      "execution_count": null,
      "id": "fd55f287",
      "metadata": {},
      "outputs": [],
      "source": [
        "# Your code here\n",
        "import pandas as pd\n",
        "\n",
        "def load_data(url):\n",
        "    return pd.read_csv(url)\n",
        "\n",
        "def clean_column_names(df):\n",
        "    df.columns = (\n",
        "        df.columns\n",
        "        .str.lower()\n",
        "        .str.replace(r'\\bst\\b', 'state', regex=True)\n",
        "        .str.replace(' ', '_')\n",
        "    )\n",
        "    return df\n",
        "\n",
        "def clean_gender(df):\n",
        "    df['gender'] = df['gender'].replace({\n",
        "        'Female': 'F',\n",
        "        'Femal': 'F',\n",
        "        'female': 'F',\n",
        "        'F': 'F',\n",
        "        'Male': 'M',\n",
        "        'M': 'M',\n",
        "        'male': 'M'\n",
        "    })\n",
        "    return df\n",
        "\n",
        "def clean_state(df):\n",
        "    df['state'] = df['state'].replace({\n",
        "        'AZ': 'Arizona',\n",
        "        'Cali': 'California',\n",
        "        'WA': 'Washington'\n",
        "    })\n",
        "    return df\n",
        "\n",
        "def clean_education(df):\n",
        "    df['education'] = df['education'].replace({'Bachelors': 'Bachelor'})\n",
        "    return df\n",
        "\n",
        "def clean_customer_lifetime_value(df):\n",
        "    df['customer_lifetime_value'] = df['customer_lifetime_value'].astype(str).str.replace('%', '', regex=False)\n",
        "    df['customer_lifetime_value'] = pd.to_numeric(df['customer_lifetime_value'], errors='coerce')\n",
        "    return df\n",
        "\n",
        "def clean_vehicle_class(df):\n",
        "    df['vehicle_class'] = df['vehicle_class'].replace({\n",
        "        'Sports Car': 'Luxury',\n",
        "        'Luxury SUV': 'Luxury',\n",
        "        'Luxury Car': 'Luxury'\n",
        "    })\n",
        "    return df\n",
        "\n",
        "def clean_number_of_open_complaints(df):\n",
        "    def extract_complaints(x):\n",
        "        if pd.notnull(x) and '/' in str(x):\n",
        "            parts = str(x).split('/')\n",
        "            if len(parts) > 1 and parts[1].isdigit():\n",
        "                return int(parts[1])\n",
        "        try:\n",
        "            return int(x)\n",
        "        except:\n",
        "            return pd.NA\n",
        "    df['number_of_open_complaints'] = df['number_of_open_complaints'].apply(extract_complaints)\n",
        "    df['number_of_open_complaints'] = df['number_of_open_complaints'].astype('Int64')\n",
        "    return df\n",
        "\n",
        "def handle_nulls(df):\n",
        "    # Fill categorical columns with mode\n",
        "    categorical_cols = df.select_dtypes(include='object').columns\n",
        "    for col in categorical_cols:\n",
        "        mode = df[col].mode(dropna=True)\n",
        "        if not mode.empty:\n",
        "            df[col] = df[col].fillna(mode[0])\n",
        "    # Fill numerical columns with median\n",
        "    numerical_cols = df.select_dtypes(include=['float64', 'Int64', 'int64']).columns\n",
        "    for col in numerical_cols:\n",
        "        median = df[col].median()\n",
        "        df[col] = df[col].fillna(median)\n",
        "    # Drop rows where all values are null\n",
        "    df = df.dropna(how='all')\n",
        "    return df\n",
        "\n",
        "def convert_numeric_to_int(df):\n",
        "    numerical_cols = df.select_dtypes(include=['float64', 'Int64']).columns\n",
        "    for col in numerical_cols:\n",
        "        df[col] = df[col].astype('int64')\n",
        "    return df\n",
        "\n",
        "def drop_duplicates(df):\n",
        "    df = df.drop_duplicates(subset='customer', keep='first').reset_index(drop=True)\n",
        "    return df\n",
        "\n",
        "def main_cleaning_pipeline(url):\n",
        "    df = load_data(url)\n",
        "    df = clean_column_names(df)\n",
        "    df = clean_gender(df)\n",
        "    df = clean_state(df)\n",
        "    df = clean_education(df)\n",
        "    df = clean_customer_lifetime_value(df)\n",
        "    df = clean_vehicle_class(df)\n",
        "    df = clean_number_of_open_complaints(df)\n",
        "    df = handle_nulls(df)\n",
        "    df = convert_numeric_to_int(df)\n",
        "    df = drop_duplicates(df)\n",
        "    return df\n",
        "\n",
        "# Example usage:\n",
        "# cleaned_df = main_cleaning_pipeline('https://raw.githubusercontent.com/data-bootcamp-v4/data/main/file1.csv')\n",
        "# cleaned_df.to_csv('cleaned_customer_data.csv', index=False)"
      ]
    },
    {
      "cell_type": "markdown",
      "id": "80f846bb-3f5e-4ca2-96c0-900728daca5a",
      "metadata": {
        "id": "80f846bb-3f5e-4ca2-96c0-900728daca5a",
        "tags": []
      },
      "source": [
        "# Bonus: Challenge 3: Analyzing Clean and Formated Data"
      ]
    },
    {
      "cell_type": "markdown",
      "id": "9021630e-cc90-446c-b5bd-264d6c864207",
      "metadata": {
        "id": "9021630e-cc90-446c-b5bd-264d6c864207"
      },
      "source": [
        "You have been tasked with analyzing the data to identify potential areas for improving customer retention and profitability. Your goal is to identify customers with a high policy claim amount and a low customer lifetime value.\n",
        "\n",
        "In the Pandas Lab, we only looked at high policy claim amounts because we couldn't look into low customer lifetime values. If we had tried to work with that column, we wouldn't have been able to because customer lifetime value wasn't clean and in its proper format. So after cleaning and formatting the data, let's get some more interesting insights!\n",
        "\n",
        "Instructions:\n",
        "\n",
        "- Review the statistics again for total claim amount and customer lifetime value to gain an understanding of the data.\n",
        "- To identify potential areas for improving customer retention and profitability, we want to focus on customers with a high policy claim amount and a low customer lifetime value. Consider customers with a high policy claim amount to be those in the top 25% of the total claim amount, and clients with a low customer lifetime value to be those in the bottom 25% of the customer lifetime value. Create a pandas DataFrame object that contains information about customers with a policy claim amount greater than the 75th percentile and a customer lifetime value in the bottom 25th percentile.\n",
        "- Use DataFrame methods to calculate summary statistics about the high policy claim amount and low customer lifetime value data. To do so, select both columns of the dataframe simultaneously and pass it to the `.describe()` method. This will give you descriptive statistics, such as mean, median, standard deviation, minimum and maximum values for both columns at the same time, allowing you to compare and analyze their characteristics."
      ]
    },
    {
      "cell_type": "code",
      "execution_count": null,
      "id": "d573c0d4",
      "metadata": {},
      "outputs": [
        {
          "name": "stdout",
          "output_type": "stream",
          "text": [
            "       total_claim_amount  customer_lifetime_value\n",
            "count         1071.000000             1.071000e+03\n",
            "mean           404.528478             7.931141e+05\n",
            "std            293.041850             6.426676e+05\n",
            "min              0.000000             2.004350e+05\n",
            "25%            201.500000             4.048530e+05\n",
            "50%            354.000000             5.881740e+05\n",
            "75%            532.000000             8.945205e+05\n",
            "max           2893.000000             5.816655e+06\n",
            "       total_claim_amount  customer_lifetime_value\n",
            "count           40.000000                40.000000\n",
            "mean           723.300000            341577.425000\n",
            "std            149.216449             56921.466178\n",
            "min            537.000000            228759.000000\n",
            "25%            632.750000            304220.500000\n",
            "50%            685.000000            365995.000000\n",
            "75%            799.000000            387364.000000\n",
            "max           1185.000000            402381.000000\n"
          ]
        }
      ],
      "source": [
        "# Your code here\n",
        "# Review statistics for total_claim_amount and customer_lifetime_value\n",
        "print(df[['total_claim_amount', 'customer_lifetime_value']].describe())\n",
        "\n",
        "# Calculate percentiles\n",
        "claim_75 = df['total_claim_amount'].quantile(0.75)\n",
        "clv_25 = df['customer_lifetime_value'].quantile(0.25)\n",
        "\n",
        "# Filter customers with high claim amount and low lifetime value\n",
        "high_claim_low_clv = df[\n",
        "    (df['total_claim_amount'] > claim_75) &\n",
        "    (df['customer_lifetime_value'] < clv_25)\n",
        "]\n",
        "\n",
        "# Show summary statistics for these customers\n",
        "print(high_claim_low_clv[['total_claim_amount', 'customer_lifetime_value']].describe())"
      ]
    }
  ],
  "metadata": {
    "colab": {
      "provenance": []
    },
    "kernelspec": {
      "display_name": ".venv",
      "language": "python",
      "name": "python3"
    },
    "language_info": {
      "codemirror_mode": {
        "name": "ipython",
        "version": 3
      },
      "file_extension": ".py",
      "mimetype": "text/x-python",
      "name": "python",
      "nbconvert_exporter": "python",
      "pygments_lexer": "ipython3",
      "version": "3.13.3"
    }
  },
  "nbformat": 4,
  "nbformat_minor": 5
}
